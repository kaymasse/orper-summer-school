{
 "cells": [
  {
   "cell_type": "code",
   "execution_count": null,
   "id": "f8dd63aa-53de-4937-acbb-4e4987553868",
   "metadata": {},
   "outputs": [],
   "source": [
    "#Connect to your Thymio II robot via the Thymio Device Manager (TDM)\n",
    "#Import what's needed from the tdmclient package\n",
    "import tdmclient.notebook\n",
    "\n",
    "#Start the tdmclient session\n",
    "await tdmclient.notebook.start()"
   ]
  },
  {
   "cell_type": "code",
   "execution_count": null,
   "id": "e340b4af-4326-4cfe-b061-c69827ecb603",
   "metadata": {},
   "outputs": [],
   "source": [
    "#This is the main program\n",
    "#Status: just started coding.\n",
    "#Current behavior: The top LEDS of Thymio light up depending on the tilt you give the robot.\n",
    "#Note that most variables and functions below have names set by the tdmclient interface and cannot be modified. See more on https://pypi.org/project/tdmclient/\n",
    "\n",
    "#Runs the following code in python format\n",
    "%%run_python\n",
    "\n",
    "#Initialization: turn off all top leds\n",
    "leds_circle=[0,0,0,0,0,0,0,0]\n",
    "\n",
    "#Function definitions for event handlers\n",
    "@onevent\n",
    "\n",
    "#Defining the actions to do when the accelorometer is actived, i.e. when tilting the robot\n",
    "#When the robot is tilted, light the LEDS corresponding to the tilted side\n",
    "#For example, if the robot is tilted to the right, light up the right-side LED\n",
    "def acc():\n",
    "\n",
    "    #These variables are set to global for them to match those set by the tdmclient\n",
    "    global acc, leds_circle\n",
    "    \n",
    "    #If lateral tilt is null, set lateral LEDS to OFF\n",
    "    if acc[0]==0:\n",
    "        leds_circle[2]=0\n",
    "        leds_circle[6]=0\n",
    "\n",
    "    #If lateral tilt is towards left, set left LED to ON and right LED to OFF\n",
    "    if acc[0]<0:\n",
    "        leds_circle[2]=20\n",
    "        leds_circle[6]=0\n",
    "    \n",
    "    #If lateral tilt is towards right, set left LED to OFF and right LED to ON\n",
    "    if acc[0]>0:\n",
    "        leds_circle[2]=0\n",
    "        leds_circle[6]=20\n",
    "        \n",
    "    #If front-back tilt is null, set the front and back LEDS to OFF\n",
    "    if acc[1]==0:\n",
    "        leds_circle[0]=0\n",
    "        leds_circle[4]=0\n",
    "\n",
    "    #If front-back tilt is towards forward, set front LED to ON and back LED to OFF\n",
    "    if acc[1]<0:\n",
    "        leds_circle[0]=20\n",
    "        leds_circle[4]=0\n",
    "\n",
    "    #If front-back tilt is towards backwards, set front LED to OFF and back LED to ON\n",
    "    if acc[1]>0:\n",
    "        leds_circle[0]=0\n",
    "        leds_circle[4]=20"
   ]
  }
 ],
 "metadata": {
  "kernelspec": {
   "display_name": "Python 3 (ipykernel)",
   "language": "python",
   "name": "python3"
  },
  "language_info": {
   "codemirror_mode": {
    "name": "ipython",
    "version": 3
   },
   "file_extension": ".py",
   "mimetype": "text/x-python",
   "name": "python",
   "nbconvert_exporter": "python",
   "pygments_lexer": "ipython3",
   "version": "3.9.6"
  }
 },
 "nbformat": 4,
 "nbformat_minor": 5
}
