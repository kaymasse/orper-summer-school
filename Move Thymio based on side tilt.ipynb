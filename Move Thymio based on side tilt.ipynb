{
 "cells": [
  {
   "cell_type": "code",
   "execution_count": null,
   "id": "f8dd63aa-53de-4937-acbb-4e4987553868",
   "metadata": {},
   "outputs": [],
   "source": [
    "import tdmclient.notebook\n",
    "await tdmclient.notebook.start()"
   ]
  },
  {
   "cell_type": "code",
   "execution_count": null,
   "id": "e340b4af-4326-4cfe-b061-c69827ecb603",
   "metadata": {},
   "outputs": [],
   "source": [
    "%%run_python\n",
    "\n",
    "#In progress, for now just lighting leds. Later move based on tilt.\n",
    "#Note that most variables and functions have names set by Thymio. https://pypi.org/project/tdmclient/\n",
    "#ongoing program, just started\n",
    "\n",
    "#Turn off all top leds\n",
    "leds_circle=[0,0,0,0,0,0,0,0]\n",
    "#the circle of LEDs around the buttons as a variable. The first arguments is the front one, then clockwise.\n",
    "\n",
    "@onevent\n",
    "#Function definitions for event handlers with the @onevent decorator or onevent function. The function name must match the event name (such as def timer0(): for the first timer event); except that dots are replaced by underscores in Python\n",
    "\n",
    "def acc(): #Set circle leds to indicate tilt\n",
    "    global acc, leds_circle #to map the variables used \n",
    "    #Thymio contains a 3-axes accelerometer. An array of 3 variables, acc, holds the values of the acceleration along these 3 axes: acc[0] : x-axis (from right to left, positive towards left)\n",
    "    \n",
    "    #Set right and left leds depending on lateral tilt, represented by acc[0]\n",
    "    if acc[0]==0:\n",
    "        leds_circle[2]=0\n",
    "        leds_circle[6]=0\n",
    "    if acc[0]<0:\n",
    "        leds_circle[2]=20\n",
    "        leds_circle[6]=0\n",
    "    if acc[0]>0:\n",
    "        leds_circle[2]=0\n",
    "        leds_circle[6]=20\n",
    "        \n",
    "    #Set top and bottom leds depending on tilt\n",
    "    if acc[1]==0:\n",
    "        leds_circle[0]=0\n",
    "        leds_circle[4]=0\n",
    "    if acc[1]<0:\n",
    "        leds_circle[0]=20\n",
    "        leds_circle[4]=0\n",
    "    if acc[1]>0:\n",
    "        leds_circle[0]=0\n",
    "        leds_circle[4]=20"
   ]
  }
 ],
 "metadata": {
  "kernelspec": {
   "display_name": "Python 3 (ipykernel)",
   "language": "python",
   "name": "python3"
  },
  "language_info": {
   "codemirror_mode": {
    "name": "ipython",
    "version": 3
   },
   "file_extension": ".py",
   "mimetype": "text/x-python",
   "name": "python",
   "nbconvert_exporter": "python",
   "pygments_lexer": "ipython3",
   "version": "3.9.6"
  }
 },
 "nbformat": 4,
 "nbformat_minor": 5
}
